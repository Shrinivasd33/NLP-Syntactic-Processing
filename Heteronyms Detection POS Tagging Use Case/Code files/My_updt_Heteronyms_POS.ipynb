{
  "nbformat": 4,
  "nbformat_minor": 0,
  "metadata": {
    "colab": {
      "name": "Heteronyms_POS.ipynb",
      "provenance": []
    },
    "kernelspec": {
      "name": "python3",
      "display_name": "Python 3"
    },
    "language_info": {
      "name": "python"
    }
  },
  "cells": [
    {
      "cell_type": "markdown",
      "metadata": {
        "id": "C5jJ9kQzPjge"
      },
      "source": [
        "**Heteronyms** are the words that have same spelling but mean different things when pronounced differently.\n",
        "\n",
        "\n",
        "- Recall the word *lead* from the lectures. It can refer to the metal lead or the act of leadership. The two pronounciations have different meanings.\n",
        "\n",
        "- For machine translation systems or text to speech systems, the ability to identify the correct sense of the word is crucial.\n",
        "\n",
        "\n"
      ]
    },
    {
      "cell_type": "markdown",
      "metadata": {
        "id": "sHvYVoL7i7_a"
      },
      "source": [
        "Let us have a look at this example:\n",
        "\n",
        "https://translate.google.com/?sl=en&tl=hi&text=She%20wished%20she%20could%20desert%20him%20in%20the%20desert.%0A&op=translate\n",
        "\n",
        "Example taken from: http://www-personal.umich.edu/~cellis/heteronym.html\n"
      ]
    },
    {
      "cell_type": "code",
      "metadata": {
        "id": "foKQ_tmOEca0"
      },
      "source": [
        "# Import SpaCy library\n",
        "import spacy\n",
        "import spacy"
      ],
      "execution_count": 9,
      "outputs": []
    },
    {
      "cell_type": "code",
      "metadata": {
        "id": "YRtKtXi9kC72"
      },
      "source": [
        "# Load pre-trained SpaCy model for performing basic\n",
        "# NLP tasks such as POS tagging, parsing, etc.\n",
        "model = spacy.load(\"en_core_web_sm\")\n",
        "\n",
        "model = spacy.load(\"en_core_web_sm\")"
      ],
      "execution_count": 10,
      "outputs": []
    },
    {
      "cell_type": "code",
      "source": [
        "tokens = model(\"She wished she could desert (verb) him in the desert (noun)\")\n",
        "for token in tokens:\n",
        "  print (token.text, \"=>\", token.pos_ , \"=>\", token.tag_)"
      ],
      "metadata": {
        "id": "8svpfeMxJgGx",
        "outputId": "fba55351-6f15-4c38-ff70-14981d264c11",
        "colab": {
          "base_uri": "https://localhost:8080/"
        }
      },
      "execution_count": 21,
      "outputs": [
        {
          "output_type": "stream",
          "name": "stdout",
          "text": [
            "She => PRON => PRP\n",
            "wished => VERB => VBD\n",
            "she => PRON => PRP\n",
            "could => AUX => MD\n",
            "desert => VERB => VB\n",
            "( => PUNCT => -LRB-\n",
            "verb => NOUN => NN\n",
            ") => PUNCT => -RRB-\n",
            "him => PRON => PRP\n",
            "in => ADP => IN\n",
            "the => DET => DT\n",
            "desert => NOUN => NN\n",
            "( => PUNCT => -LRB-\n",
            "noun => NOUN => NN\n",
            ") => PUNCT => -RRB-\n"
          ]
        }
      ]
    },
    {
      "cell_type": "code",
      "source": [
        "tokens = model(\"The bass swam around the bass drum on the ocean floor.\")\n",
        "for token in tokens:\n",
        "  print (token.text, \"=>\", token.pos_ , \"=>\", token.tag_)"
      ],
      "metadata": {
        "id": "B1rZd7iXH428",
        "outputId": "314bdb66-020f-474e-8a2f-8b9e6a427d98",
        "colab": {
          "base_uri": "https://localhost:8080/"
        }
      },
      "execution_count": 20,
      "outputs": [
        {
          "output_type": "stream",
          "name": "stdout",
          "text": [
            "The => DET => DT\n",
            "bass => NOUN => NN\n",
            "swam => NOUN => NN\n",
            "around => ADP => IN\n",
            "the => DET => DT\n",
            "bass => NOUN => NN\n",
            "drum => NOUN => NN\n",
            "on => ADP => IN\n",
            "the => DET => DT\n",
            "ocean => NOUN => NN\n",
            "floor => NOUN => NN\n",
            ". => PUNCT => .\n"
          ]
        }
      ]
    },
    {
      "cell_type": "code",
      "source": [
        "#Use the model to process the input sentence\n",
        "tokens = model(\"UpGrad is teaching Data Science courses to the working professionals.\")\n",
        "word_to_be_checked = 'working'\n",
        "# Print the tokens and their respective PoS tags.\n",
        "for token in tokens:\n",
        "    if token.text == word_to_be_checked :\n",
        "      print(token.text, \"--\", token.pos_, \"--\", token.tag_)\n"
      ],
      "metadata": {
        "id": "u_1MqeNGMPPj",
        "outputId": "4a940eb3-5c43-4855-a7d2-a2a0c397393c",
        "colab": {
          "base_uri": "https://localhost:8080/"
        }
      },
      "execution_count": 32,
      "outputs": [
        {
          "output_type": "stream",
          "name": "stdout",
          "text": [
            "working -- VERB -- VBG\n"
          ]
        }
      ]
    },
    {
      "cell_type": "code",
      "source": [
        "#Use the model to process the input sentence\n",
        "tokens = model(\"There was big desert and in that another desert away. We need to careful else you are me will be desert away.\")\n",
        "\n",
        "# Print the tokens and their respective PoS tags.\n",
        "for token in tokens:\n",
        "    if token.text == 'desert':\n",
        "      print(token.text, \"--\", token.pos_, \"--\", token.tag_)\n"
      ],
      "metadata": {
        "id": "5ezUJ32aK7SW",
        "outputId": "f89cc110-6310-43c8-d100-fd7f49e5fc2a",
        "colab": {
          "base_uri": "https://localhost:8080/"
        }
      },
      "execution_count": 28,
      "outputs": [
        {
          "output_type": "stream",
          "name": "stdout",
          "text": [
            "desert -- NOUN -- NN\n",
            "desert -- NOUN -- NN\n",
            "desert -- VERB -- VB\n"
          ]
        }
      ]
    },
    {
      "cell_type": "code",
      "metadata": {
        "id": "yjtQ_cgdk3pn"
      },
      "source": [
        "#Use the model to process the input sentence\n",
        "tokens = model(\"She wished she could desert him in the desert.\")"
      ],
      "execution_count": 3,
      "outputs": []
    },
    {
      "cell_type": "code",
      "metadata": {
        "colab": {
          "base_uri": "https://localhost:8080/"
        },
        "id": "gXtwtkrflcPF",
        "outputId": "6356a53f-f7b1-4af0-b4b8-e14fb82b1361"
      },
      "source": [
        "# Print the tokens and their respective PoS tags.\n",
        "for token in tokens:\n",
        "    print(token.text, \"--\", token.pos_, \"--\", token.tag_)"
      ],
      "execution_count": 4,
      "outputs": [
        {
          "output_type": "stream",
          "name": "stdout",
          "text": [
            "She -- PRON -- PRP\n",
            "wished -- VERB -- VBD\n",
            "she -- PRON -- PRP\n",
            "could -- AUX -- MD\n",
            "desert -- VERB -- VB\n",
            "him -- PRON -- PRP\n",
            "in -- ADP -- IN\n",
            "the -- DET -- DT\n",
            "desert -- NOUN -- NN\n",
            ". -- PUNCT -- .\n"
          ]
        }
      ]
    },
    {
      "cell_type": "markdown",
      "metadata": {
        "id": "G5YMNqqF-sHl"
      },
      "source": [
        "Note here that in the above example, the two instances of *desert* have different PoS tags and hence, the text to speech system can use this information to generate the correct pronounciation.\n",
        "\n",
        "The above task is a specific example of the larger NLP problem called Word Sense Disambiguation (WSD). For words that have more than one meaning, WSD is the problem of identifying the correct meaning of the word based on the context in which the word is used.\n",
        "\n"
      ]
    },
    {
      "cell_type": "markdown",
      "metadata": {
        "id": "gJMNHvrRx-rA"
      },
      "source": [
        "Note that this technique will not work when the different meanings have the same PoS tags.\n",
        "\n",
        "https://translate.google.com/?sl=en&tl=hi&text=The%20bass%20swam%20around%20the%20bass%20drum%20on%20the%20ocean%20floor.&op=translate"
      ]
    },
    {
      "cell_type": "code",
      "metadata": {
        "id": "Xd8l1zfNmgQz",
        "colab": {
          "base_uri": "https://localhost:8080/"
        },
        "outputId": "f65f5b2d-8e72-42d9-9e1b-e2548d6db3d3"
      },
      "source": [
        "# Let's take a new example.\n",
        "tokens = model(\"The bass swam around the bass drum on the ocean floor\")\n",
        "for token in tokens:\n",
        "    print(token.text, \"--\", token.pos_, \"--\", token.tag_)"
      ],
      "execution_count": 5,
      "outputs": [
        {
          "output_type": "stream",
          "name": "stdout",
          "text": [
            "The -- DET -- DT\n",
            "bass -- NOUN -- NN\n",
            "swam -- NOUN -- NN\n",
            "around -- ADP -- IN\n",
            "the -- DET -- DT\n",
            "bass -- NOUN -- NN\n",
            "drum -- NOUN -- NN\n",
            "on -- ADP -- IN\n",
            "the -- DET -- DT\n",
            "ocean -- NOUN -- NN\n",
            "floor -- NOUN -- NN\n"
          ]
        }
      ]
    },
    {
      "cell_type": "code",
      "metadata": {
        "id": "3IHqXulWJYVj"
      },
      "source": [],
      "execution_count": null,
      "outputs": []
    }
  ]
}